{
 "cells": [
  {
   "cell_type": "markdown",
   "id": "c3696ebd",
   "metadata": {},
   "source": [
    "# Some Mujoco Testing\n",
    "Mujoco_Py provides bindings for mujoco - their [documentation](https://openai.github.io/mujoco-py/build/html/reference.html?highlight=actuator#id1) is quite sparse however.\n",
    "\n",
    "Thankfully they use the same bindings as mujoco does, so you can all but reference the C mujoco bindings and cheese your way through it.\n"
   ]
  },
  {
   "cell_type": "code",
   "execution_count": 1,
   "id": "433bd2d0",
   "metadata": {},
   "outputs": [],
   "source": [
    "# imports\n",
    "import mujoco_py as mjpy\n",
    "import os\n",
    "import matplotlib.pyplot as plt\n",
    "import numpy as np"
   ]
  },
  {
   "cell_type": "markdown",
   "id": "14f9cd75",
   "metadata": {},
   "source": [
    "## Importing the model\n",
    "The first line here simply finds the model file (you might need to change the path to get this to work - ```print(os.path.abspath(''))``` will tell you where you currently are - and should help you figure that out.\n",
    "\n",
    "Next I load the model from an xml and create a new MjSim object from it."
   ]
  },
  {
   "cell_type": "code",
   "execution_count": 5,
   "id": "b376a6f9",
   "metadata": {},
   "outputs": [],
   "source": [
    "xml_path = os.path.join(os.path.dirname(os.path.abspath('')),'Animatlab2MuJoCo','xmls', 'FinalRat.xml')\n",
    "model = mjpy.load_model_from_path(xml_path)\n",
    "sim = mjpy.MjSim(model)"
   ]
  },
  {
   "cell_type": "markdown",
   "id": "f17698b1",
   "metadata": {},
   "source": [
    "## Running the Model\n",
    "Most of the information for how the model works is laid out on the MuJoCo docs.\n",
    "```sim.data``` is a MjData object, and can be referenced as such. Remember that all data is normalized (-1,1) so gains need to be applied separately.\n",
    "\n",
    "sim.data.sensordata is the force sensors displayed in the order they appear in the xml.\n",
    "sim.data.act is the activations of the actuators in the order they appear."
   ]
  },
  {
   "cell_type": "code",
   "execution_count": 6,
   "id": "4c83f586",
   "metadata": {},
   "outputs": [
    {
     "name": "stdout",
     "output_type": "stream",
     "text": [
      "Initial Force Data: [0. 0. 0. 0. 0. 0. 0. 0. 0. 0. 0. 0.]\n",
      "\n",
      "Force after 100 timesteps: [ 0.00000000e+00  0.00000000e+00 -1.22589369e-04  0.00000000e+00\n",
      "  0.00000000e+00  0.00000000e+00  0.00000000e+00  0.00000000e+00\n",
      " -5.44715065e-05 -3.41808102e-04  0.00000000e+00 -8.46875180e-02]\n"
     ]
    }
   ],
   "source": [
    "print(\"Initial Force Data: {}\".format(sim.data.sensordata))\n",
    "sim.data.act[11] = 1.0 #changing the 11th actuator --> LH_Flx\n",
    "for _ in range(100):\n",
    "    sim.step()\n",
    "print()\n",
    "print(\"Force after 100 timesteps: {}\".format(sim.data.sensordata))"
   ]
  },
  {
   "cell_type": "code",
   "execution_count": null,
   "id": "09e21454",
   "metadata": {},
   "outputs": [],
   "source": []
  }
 ],
 "metadata": {
  "kernelspec": {
   "display_name": "Python (MuJoCo)",
   "language": "python",
   "name": "mujocoenv"
  },
  "language_info": {
   "codemirror_mode": {
    "name": "ipython",
    "version": 3
   },
   "file_extension": ".py",
   "mimetype": "text/x-python",
   "name": "python",
   "nbconvert_exporter": "python",
   "pygments_lexer": "ipython3",
   "version": "3.10.5"
  }
 },
 "nbformat": 4,
 "nbformat_minor": 5
}
