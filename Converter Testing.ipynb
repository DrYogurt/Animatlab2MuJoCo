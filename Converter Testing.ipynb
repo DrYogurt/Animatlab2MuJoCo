{
 "cells": [
  {
   "cell_type": "code",
   "execution_count": 223,
   "id": "1a72b26b",
   "metadata": {},
   "outputs": [],
   "source": [
    "import xmltodict\n",
    "import xml.etree.ElementTree as et\n",
    "import math"
   ]
  },
  {
   "cell_type": "code",
   "execution_count": 110,
   "id": "3a0985e1",
   "metadata": {},
   "outputs": [],
   "source": [
    "with open(\"xmls/Whole_leg_sim_Standalone.asim\",'r') as f:\n",
    "    dicto = xmltodict.parse(f.read())\n",
    "rat = dicto['Simulation']['Environment'][\"Organisms\"][\"Organism\"]"
   ]
  },
  {
   "cell_type": "code",
   "execution_count": 386,
   "id": "7f3cf5cb",
   "metadata": {},
   "outputs": [],
   "source": [
    "def process_rb(rb):\n",
    "    new_rb = {}\n",
    "    keys = [\"Name\",\"ID\",\"Mass\",\"Density\",\"Position\",\"Rotation\",\"Type\",\n",
    "            \"IsCollisonObject\",\"IsContactSensor\"\n",
    "            \"StimulusTension\",\"Length Tension\",\"MaximumTension\",\"Kse\",\"Kpe\",\"B\",\"Attachments\"]\n",
    "    for key,value in rb.items():\n",
    "        if key in keys:\n",
    "            new_rb[key] = process_item(key,value)\n",
    "    \n",
    "    if \"ChildBodies\" in rb.keys():\n",
    "        new_rb[\"ChildBodies\"] = [process_rb(child) for child in rb[\"ChildBodies\"][\"RigidBody\"]]\n",
    "    if \"Width\" in rb.keys(): #if width exists, assume the rest do...\n",
    "        new_rb[\"size\"] = \"{} {} {}\".format(float(rb[\"Width\"])*50,float(rb[\"Length\"])*50,float(rb[\"Height\"])*50)\n",
    "    if \"Joint\" in rb.keys():\n",
    "        if isinstance(rb[\"Joint\"],list):\n",
    "            new_rb[\"Joints\"] = [process_joint(child) for child in rb[\"Joint\"]]\n",
    "        else:\n",
    "            new_rb[\"Joint\"] = process_joint(rb[\"Joint\"])\n",
    "    \n",
    "    return new_rb\n",
    "\n",
    "def process_joint(joint):\n",
    "    new_jnt = {}\n",
    "    keys = [\"Name\",\"Position\",\"Rotation\",\"Type\",\"Size\",\n",
    "            \"MaxForce\",\"MaxVelocity\",\"EnableMotor\",\"MotorType\",\"ServoGain\"]\n",
    "    relaxations = []\n",
    "    for key,value in joint.items():\n",
    "        if key in keys:\n",
    "            new_jnt[key] = process_item(key,value)\n",
    "        if key in [\"LowerLimit\",\"UpperLimit\"]:\n",
    "            new_jnt[key] = {}\n",
    "            new_jnt[key][\"LimitPos\"] = float(value[\"LimitPos\"])\n",
    "            new_jnt[key][\"Damping\"] = float(value[\"Damping\"])\n",
    "            new_jnt[key][\"Restitution\"] = float(value[\"Restitution\"])\n",
    "            new_jnt[key][\"Stiffness\"] = float(value[\"Stiffness\"]) \n",
    "        if key == \"Friction\":\n",
    "            if value[\"Enabled\"] == True:\n",
    "                new_jnt[\"Friction\"] = {}\n",
    "                new_jnt[\"Friction\"][\"Type\"] = float(value[\"Type\"])\n",
    "                new_jnt[\"Friction\"][\"Coefficient\"] = float(value[\"Coefficient\"])\n",
    "                new_jnt[\"Friction\"][\"MaxForce\"] = float(value[\"MaxForce\"])\n",
    "                new_jnt[\"Friction\"][\"Loss\"] = float(value[\"Loss\"])\n",
    "                \n",
    "            \n",
    "    return new_jnt\n",
    "\n",
    "def process_item(key,param):\n",
    "    if key ==\"Position\":\n",
    "        return \"{} {} {}\".format(float(param[\"@x\"])*100,float(param[\"@z\"])*100,float(param[\"@y\"])*100)\n",
    "    elif key ==\"Rotation\":\n",
    "        return \"{} {} {}\".format(\n",
    "            float(param[\"@x\"])*180 / math.pi,\n",
    "            float(param[\"@z\"])*180 / math.pi,\n",
    "            float(param[\"@y\"])*180 / math.pi)\n",
    "    else:\n",
    "        try:\n",
    "            float(param)\n",
    "            return float(param)\n",
    "        except:\n",
    "            return param"
   ]
  },
  {
   "cell_type": "code",
   "execution_count": 387,
   "id": "8ecfeb9d",
   "metadata": {},
   "outputs": [],
   "source": [
    "dic = process_rb(rat[\"RigidBody\"])\n",
    "#for i in rat[\"RigidBody\"][\"ChildBodies\"][\"RigidBody\"]:\n",
    "#    if \"Joint\" in i.keys():\n",
    "#        print(i[\"Joint\"])\n"
   ]
  },
  {
   "cell_type": "code",
   "execution_count": 388,
   "id": "8425a141",
   "metadata": {},
   "outputs": [
    {
     "name": "stdout",
     "output_type": "stream",
     "text": [
      "Pelvis\n",
      "0.8500000000000001 1.55 1.0\n"
     ]
    }
   ],
   "source": [
    "#[body[\"Name\"] for body in dic[\"ChildBodies\"][5][\"ChildBodies\"]]\n",
    "item = dic\n",
    "print(item[\"Name\"])\n",
    "print(item[\"size\"])\n",
    "#print(item[\"Rotation\"])\n",
    "#print(item[\"Attachments\"])"
   ]
  },
  {
   "cell_type": "code",
   "execution_count": 389,
   "id": "126aa8d8",
   "metadata": {},
   "outputs": [],
   "source": [
    "def xmlify_body(dic,attach_ids={},root=0):\n",
    "    #print(dic[\"Name\"])\n",
    "    #print(dic[\"Type\"])\n",
    "    muscles = []\n",
    "    body = et.Element(\"body\",attrib={\n",
    "        \"name\":dic[\"Name\"],\n",
    "        \"pos\":dic[\"Position\"],\n",
    "        \"euler\":dic[\"Rotation\"]\n",
    "    })\n",
    "    body.append(et.Element(\"geom\",attrib={\n",
    "        \"type\": \"box\",\n",
    "        \"size\": dic[\"size\"]\n",
    "    }))\n",
    "    if \"ChildBodies\" in dic.keys():\n",
    "        for value in dic[\"ChildBodies\"]:\n",
    "            if value[\"Type\"] == \"Attachment\":\n",
    "                body.append(et.Element(\"site\",attrib={\n",
    "                    \"name\":value[\"Name\"],\n",
    "                    \"pos\":value[\"Position\"]\n",
    "                }))\n",
    "                attach_ids[value[\"ID\"]] = value[\"Name\"]\n",
    "            if value[\"Type\"].__contains__(\"Muscle\"):\n",
    "                muscles.append(value)\n",
    "            if value[\"Type\"] == \"Box\":\n",
    "                child, muscles, _ = xmlify_body(value,attach_ids=attach_ids,root=1)\n",
    "                body.append(child)\n",
    "                muscles.append(muscles)\n",
    "    if \"Joint\" in dic.keys():\n",
    "            joints = []\n",
    "            if isinstance(dic[\"Joint\"],list):\n",
    "                joints = dic[\"Joint\"]\n",
    "            else:\n",
    "                joints.append(dic[\"Joint\"])\n",
    "            for value in joints:\n",
    "                body.append(et.Element(\"joint\",attrib={\n",
    "                    \"name\":value[\"Name\"],\n",
    "                    \"pos\":value[\"Position\"],\n",
    "                    \"axis\":value[\"Rotation\"]\n",
    "                }))\n",
    "\n",
    "    if root == 0:\n",
    "        pass\n",
    "        #for muscle in muscles:\n",
    "    return body, muscles, attach_ids"
   ]
  },
  {
   "cell_type": "code",
   "execution_count": 390,
   "id": "028e0010",
   "metadata": {},
   "outputs": [],
   "source": [
    "root = et.Element(\"mujoco\")\n",
    "root.append(et.Element(\"compiler\",attrib={\"coordinate\":\"local\",\"angle\":\"degree\"}))\n",
    "\n",
    "default = et.SubElement(root,\"default\")\n",
    "default.append(et.Element(\"geom\",attrib={\"rgba\":\".8 .4 .6 1\"}))\n",
    "\n",
    "asset = et.SubElement(root,\"asset\")\n",
    "asset.append(et.Element(\"texture\",attrib={\"type\":\"skybox\",\n",
    "                                          \"builtin\":\"gradient\",\n",
    "                                          \"rgb1\":\"1 1 1\",\"rgb2\":\".6 .8 1\",\n",
    "                                          \"width\":\"256\",\n",
    "                                          \"height\":\"256\"\n",
    "                                         }))\n",
    "world_body = et.SubElement(root,\"worldbody\")\n",
    "world_body.append(et.Element(\"geom\",attrib={\"name\":\"floor\",\n",
    "                                            \"pos\":\"0 0 -5\",\n",
    "                                            \"size\":\"10 10 0.125\",\n",
    "                                            \"type\":\"plane\",\n",
    "                                            \"condim\":\"3\",\n",
    "                                            \"rgba\":\"1 1 1 1\"\n",
    "                                           }))\n",
    "world_body.append(et.Element(\"light\",attrib={\"pos\":\"0 5 5\",\n",
    "                                            \"dir\":\"0 -1 -1\",\n",
    "                                            \"diffuse\":\"1 1 1\"\n",
    "}))\n",
    "body,muscles,attach_ids = xmlify_body(dic)\n",
    "world_body.append(body)\n",
    "with open(\"xmls/NewRatBastard.xml\",\"wb\") as fp: \n",
    "    et.indent(root)\n",
    "    tree = et.ElementTree(root)\n",
    "    tree.write(fp)"
   ]
  },
  {
   "cell_type": "code",
   "execution_count": 385,
   "id": "adfcdc02",
   "metadata": {},
   "outputs": [],
   "source": [
    "import json\n",
    "with open('outfile.json','w') as fp:\n",
    "    json.dump(dic,fp)"
   ]
  },
  {
   "cell_type": "code",
   "execution_count": null,
   "id": "3a9e12c5",
   "metadata": {},
   "outputs": [],
   "source": []
  },
  {
   "cell_type": "code",
   "execution_count": null,
   "id": "5fe4567c",
   "metadata": {},
   "outputs": [],
   "source": []
  },
  {
   "cell_type": "code",
   "execution_count": null,
   "id": "e050c8d0",
   "metadata": {},
   "outputs": [],
   "source": []
  }
 ],
 "metadata": {
  "kernelspec": {
   "display_name": "Python (MuJoCo)",
   "language": "python",
   "name": "mujocoenv"
  },
  "language_info": {
   "codemirror_mode": {
    "name": "ipython",
    "version": 3
   },
   "file_extension": ".py",
   "mimetype": "text/x-python",
   "name": "python",
   "nbconvert_exporter": "python",
   "pygments_lexer": "ipython3",
   "version": "3.10.5"
  }
 },
 "nbformat": 4,
 "nbformat_minor": 5
}
